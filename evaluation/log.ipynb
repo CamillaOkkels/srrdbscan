{
 "cells": [
  {
   "cell_type": "markdown",
   "metadata": {},
   "source": [
    "# Experimental Log \"Scalable DBSCAN via Multi-Level LSH\"\n",
    "\n"
   ]
  },
  {
   "cell_type": "markdown",
   "metadata": {},
   "source": [
    "## Analysis of Chosen Levels (mnist dataset)"
   ]
  },
  {
   "cell_type": "code",
   "execution_count": 32,
   "metadata": {},
   "outputs": [],
   "source": [
    "import h5py\n",
    "import numpy as np\n",
    "\n",
    "EPS=4000\n",
    "\n",
    "f = h5py.File(f\"../results/mnist/{EPS}/4/work_M=1_d=.5.hdf5\")\n",
    "work = np.array(f['work'])\n",
    "N, K = work.shape"
   ]
  },
  {
   "cell_type": "code",
   "execution_count": 33,
   "metadata": {},
   "outputs": [
    {
     "name": "stdout",
     "output_type": "stream",
     "text": [
      "Optimal levels Counter({0: 52562, 2: 3831, 1: 3309, 3: 281, 4: 17})\n",
      "Single levels (per point): [ 60001.          98237.01013333  93639.7718     127398.31216667\n",
      " 171212.94076667 240768.5852     366240.31833333 548560.11743333\n",
      " 832795.5984    ]\n",
      "Total avg. work when picking best levels: 58641.5805\n",
      "Improvement:  1.0231818359670575\n"
     ]
    }
   ],
   "source": [
    "from collections import Counter\n",
    "print(\"Optimal levels\", Counter(np.argmin(work, axis=1)))\n",
    "print(\"Single levels (per point):\", np.sum(work, axis=0) / N)\n",
    "\n",
    "best_levels = np.argmin(work, axis=1)\n",
    "\n",
    "total_work = 0\n",
    "for i, k in enumerate(best_levels):\n",
    "    total_work += work[i, k]\n",
    "print(\"Total avg. work when picking best levels:\", total_work / N)\n",
    "print(\"Improvement: \", np.min(np.sum(work, axis=0)) / total_work)"
   ]
  },
  {
   "cell_type": "code",
   "execution_count": null,
   "metadata": {},
   "outputs": [],
   "source": []
  }
 ],
 "metadata": {
  "kernelspec": {
   "display_name": "Python 3",
   "language": "python",
   "name": "python3"
  },
  "language_info": {
   "codemirror_mode": {
    "name": "ipython",
    "version": 3
   },
   "file_extension": ".py",
   "mimetype": "text/x-python",
   "name": "python",
   "nbconvert_exporter": "python",
   "pygments_lexer": "ipython3",
   "version": "3.10.9"
  }
 },
 "nbformat": 4,
 "nbformat_minor": 2
}
